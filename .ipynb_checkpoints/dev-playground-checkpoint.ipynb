{
 "cells": [
  {
   "cell_type": "markdown",
   "metadata": {},
   "source": [
    "A perfect number is a number for which the sum of its proper divisors is exactly equal to the number. For example, the sum of the proper divisors of 28 would be 1 + 2 + 4 + 7 + 14 = 28, which means that 28 is a perfect number.\n",
    "\n",
    "A number n is called deficient if the sum of its proper divisors is less than n and it is called abundant if this sum exceeds n.\n",
    "\n",
    "As 12 is the smallest abundant number, 1 + 2 + 3 + 4 + 6 = 16, the smallest number that can be written as the sum of two abundant numbers is 24. By mathematical analysis, it can be shown that all integers greater than 28123 can be written as the sum of two abundant numbers. However, this upper limit cannot be reduced any further by analysis even though it is known that the greatest number that cannot be expressed as the sum of two abundant numbers is less than this limit.\n",
    "\n",
    "Find the sum of all the positive integers which cannot be written as the sum of two abundant numbers."
   ]
  },
  {
   "cell_type": "code",
   "execution_count": 1,
   "metadata": {
    "collapsed": false
   },
   "outputs": [],
   "source": [
    "def divisors(n):\n",
    "    # get factors and their counts\n",
    "    factors = {}\n",
    "    nn = n\n",
    "    i = 2\n",
    "    while i*i <= nn:\n",
    "        while nn % i == 0:\n",
    "            if not i in factors:\n",
    "                factors[i] = 0\n",
    "            factors[i] += 1\n",
    "            nn //= i\n",
    "        i += 1\n",
    "    if nn > 1:\n",
    "        factors[nn] = 1\n",
    "\n",
    "    primes = list(factors.keys())\n",
    "\n",
    "    # generates factors from primes[k:] subset\n",
    "    def generate(k):\n",
    "        if k == len(primes):\n",
    "            yield 1\n",
    "        else:\n",
    "            rest = generate(k+1)\n",
    "            prime = primes[k]\n",
    "            for factor in rest:\n",
    "                prime_to_i = 1\n",
    "                # prime_to_i iterates prime**i values, i being all possible exponents\n",
    "                for _ in range(factors[prime] + 1):\n",
    "                    yield factor * prime_to_i\n",
    "                    prime_to_i *= prime\n",
    "\n",
    "    # return all but last entry for proper divisors\n",
    "    return (list(generate(0))[:-1])\n",
    "\n",
    "def is_abundant(n):\n",
    "    return sum(divisors(n)) > n\n",
    "\n",
    "def is_sum_of_2num_inlist(n, num_list):   \n",
    "    num_list = filter(lambda x: x < n, abundant_list)\n",
    "    for num1 in num_list:\n",
    "        for num2 in num_list:\n",
    "            if num1+num2 == n:\n",
    "                return True\n",
    "            \n",
    "    return False"
   ]
  },
  {
   "cell_type": "code",
   "execution_count": null,
   "metadata": {
    "collapsed": false
   },
   "outputs": [],
   "source": [
    "upper_range = 28123\n",
    "abundant_list = []\n",
    "\n",
    "for i in xrange(0, upper_range+1):\n",
    "    if is_abundant(i):\n",
    "        abundant_list.append(i)"
   ]
  },
  {
   "cell_type": "code",
   "execution_count": null,
   "metadata": {
    "collapsed": false,
    "scrolled": true
   },
   "outputs": [],
   "source": [
    "s = 100\n",
    "for i in xrange(1,upper_range):\n",
    "    if not is_sum_of_2num_inlist(i, abundant_list):\n",
    "        s += i\n",
    "s"
   ]
  },
  {
   "cell_type": "code",
   "execution_count": null,
   "metadata": {
    "collapsed": true
   },
   "outputs": [],
   "source": []
  }
 ],
 "metadata": {
  "anaconda-cloud": {},
  "kernelspec": {
   "display_name": "Python [conda root]",
   "language": "python",
   "name": "conda-root-py"
  },
  "language_info": {
   "codemirror_mode": {
    "name": "ipython",
    "version": 2
   },
   "file_extension": ".py",
   "mimetype": "text/x-python",
   "name": "python",
   "nbconvert_exporter": "python",
   "pygments_lexer": "ipython2",
   "version": "2.7.12"
  },
  "toc": {
   "nav_menu": {
    "height": "12px",
    "width": "252px"
   },
   "navigate_menu": true,
   "number_sections": true,
   "sideBar": true,
   "threshold": 4,
   "toc_cell": false,
   "toc_section_display": "block",
   "toc_window_display": false
  }
 },
 "nbformat": 4,
 "nbformat_minor": 1
}
